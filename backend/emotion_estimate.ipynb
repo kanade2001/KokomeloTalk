{
  "nbformat": 4,
  "nbformat_minor": 0,
  "metadata": {
    "colab": {
      "provenance": [],
      "authorship_tag": "ABX9TyNDqvfk33gCasuJ3mg69Ypd",
      "include_colab_link": true
    },
    "kernelspec": {
      "name": "python3",
      "display_name": "Python 3"
    },
    "language_info": {
      "name": "python"
    }
  },
  "cells": [
    {
      "cell_type": "markdown",
      "metadata": {
        "id": "view-in-github",
        "colab_type": "text"
      },
      "source": [
        "<a href=\"https://colab.research.google.com/github/kanade2001/KokomeloTalk/blob/g0roro%2Festimate_emotion/backend/emotion_estimate.ipynb\" target=\"_parent\"><img src=\"https://colab.research.google.com/assets/colab-badge.svg\" alt=\"Open In Colab\"/></a>"
      ]
    },
    {
      "cell_type": "code",
      "source": [
        "# 感情名（日本語）を定義\n",
        "emotion_names_jp = ['喜び', '悲しみ', '怒り', '恐れ', '嫌悪', '驚き', '信頼', '期待'] # 例として8つの感情を想定\n",
        "\n",
        "# ソフトマックス関数\n",
        "def np_softmax(x):\n",
        "    f_x = np.exp(x) / np.sum(np.exp(x))\n",
        "    return f_x\n",
        "\n",
        "def analyze_emotion(text):\n",
        "    # 推論モードを有効化\n",
        "    loaded_model.eval()\n",
        "\n",
        "    # 入力データ変換 + 推論\n",
        "    tokens = loaded_tokenizer(text, truncation=True, return_tensors=\"pt\")\n",
        "    tokens.to(loaded_model.device)\n",
        "    preds = loaded_model(**tokens)\n",
        "    prob = np_softmax(preds.logits.cpu().detach().numpy()[0])\n",
        "    out_dict = {n: p for n, p in zip(emotion_names_jp, prob)}\n",
        "    out_dict_ud = sorted(out_dict.items(), key=lambda x:x[1], reverse=True)\n",
        "\n",
        "    # print(\"入力文：\", text)\n",
        "    # print(out_dict_ud)\n",
        "\n",
        "# 感情推定する文の入力\n",
        "analyze_emotion('昨日彼女に振られました')"
      ],
      "metadata": {
        "id": "cmKpem1oDiny"
      },
      "execution_count": null,
      "outputs": []
    }
  ]
}