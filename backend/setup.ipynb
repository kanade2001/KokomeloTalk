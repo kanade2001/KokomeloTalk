{
  "nbformat": 4,
  "nbformat_minor": 0,
  "metadata": {
    "colab": {
      "provenance": [],
      "authorship_tag": "ABX9TyOQhinfzKYBCn2wgebTSfUi",
      "include_colab_link": true
    },
    "kernelspec": {
      "name": "python3",
      "display_name": "Python 3"
    },
    "language_info": {
      "name": "python"
    }
  },
  "cells": [
    {
      "cell_type": "markdown",
      "metadata": {
        "id": "view-in-github",
        "colab_type": "text"
      },
      "source": [
        "<a href=\"https://colab.research.google.com/github/kanade2001/KokomeloTalk/blob/g0roro%2Festimate_emotion/backend/setup.ipynb\" target=\"_parent\"><img src=\"https://colab.research.google.com/assets/colab-badge.svg\" alt=\"Open In Colab\"/></a>"
      ]
    },
    {
      "cell_type": "code",
      "execution_count": null,
      "metadata": {
        "id": "bXAjabFUCYsz"
      },
      "outputs": [],
      "source": [
        "# 必要なモジュールのインストール/インポート\n",
        "import torch\n",
        "device = torch.device('cuda:0' if torch.cuda.is_available() else 'cpu')\n",
        "! pip install fugashi ipadic\n",
        "! pip install unidic_lite\n",
        "import numpy as np\n",
        "import os\n",
        "import gdown\n",
        "\n",
        "# フォルダIDを指定\n",
        "folder_id = \"1YmF_3TihtXOEELXUr_ShG1kT4rIIzgef\"\n",
        "\n",
        "# ダウンロード先ディレクトリ\n",
        "save_dir = \"/content/trained_model\"\n",
        "os.makedirs(save_dir, exist_ok=True)\n",
        "\n",
        "# gdownを使ってフォルダ全体をダウンロード\n",
        "gdown.download_folder(f\"https://drive.google.com/drive/folders/{folder_id}\", output=save_dir, quiet=False)\n",
        "\n",
        "# モデルとトークナイザを読み込み\n",
        "from transformers import AutoModelForSequenceClassification, AutoTokenizer\n",
        "loaded_model = AutoModelForSequenceClassification.from_pretrained(save_dir)\n",
        "loaded_tokenizer = AutoTokenizer.from_pretrained(save_dir)\n",
        "\n",
        "# デバイスを指定\n",
        "device = torch.device(\"cuda\" if torch.cuda.is_available() else \"cpu\")\n",
        "loaded_model.to(device)"
      ]
    },
    {
      "cell_type": "code",
      "source": [],
      "metadata": {
        "id": "1i3qxPgJCh28"
      },
      "execution_count": null,
      "outputs": []
    }
  ]
}